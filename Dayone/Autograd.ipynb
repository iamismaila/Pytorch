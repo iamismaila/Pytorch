{
 "cells": [
  {
   "cell_type": "code",
   "execution_count": 2,
   "metadata": {},
   "outputs": [
    {
     "name": "stdout",
     "output_type": "stream",
     "text": [
      "PyTorch Version: 1.12.0\n",
      "\n",
      "Python 3.9.7 | packaged by conda-forge | (default, Sep 29 2021, 19:24:02) \n",
      "[Clang 11.1.0 ]\n",
      "Pandas 1.4.0\n",
      "Scikit-Learn 1.0.2\n",
      "GPU is NOT AVAILABLE\n"
     ]
    }
   ],
   "source": [
    "import sys\n",
    "\n",
    "import torch\n",
    "import pandas as pd\n",
    "import sklearn as sk\n",
    "\n",
    "print(f\"PyTorch Version: {torch.__version__}\")\n",
    "print()\n",
    "print(f\"Python {sys.version}\")\n",
    "print(f\"Pandas {pd.__version__}\")\n",
    "print(f\"Scikit-Learn {sk.__version__}\")\n",
    "print(\"GPU is\", \"available\" if torch.cuda.is_available() else \"NOT AVAILABLE\")"
   ]
  },
  {
   "cell_type": "code",
   "execution_count": 10,
   "metadata": {},
   "outputs": [
    {
     "name": "stdout",
     "output_type": "stream",
     "text": [
      "tensor([[[[0., 0.],\n",
      "          [0., 0.]],\n",
      "\n",
      "         [[0., 0.],\n",
      "          [0., 0.]]],\n",
      "\n",
      "\n",
      "        [[[0., 0.],\n",
      "          [0., 0.]],\n",
      "\n",
      "         [[0., 0.],\n",
      "          [0., 0.]]]])\n"
     ]
    }
   ],
   "source": [
    "x = torch.empty(2,2,2,2)\n",
    "print(x)"
   ]
  },
  {
   "cell_type": "code",
   "execution_count": 12,
   "metadata": {},
   "outputs": [
    {
     "name": "stdout",
     "output_type": "stream",
     "text": [
      "tensor([[0.0796, 0.7661],\n",
      "        [0.0435, 0.3108]])\n"
     ]
    }
   ],
   "source": [
    "## random \n",
    "x = torch.rand(2,2)\n",
    "print(x)"
   ]
  },
  {
   "cell_type": "code",
   "execution_count": null,
   "metadata": {},
   "outputs": [],
   "source": []
  },
  {
   "cell_type": "code",
   "execution_count": 14,
   "metadata": {},
   "outputs": [
    {
     "name": "stdout",
     "output_type": "stream",
     "text": [
      "tensor([[0., 0.],\n",
      "        [0., 0.]])\n"
     ]
    }
   ],
   "source": [
    "##zero function \n",
    "x = torch.zeros(2,2)\n",
    "print(x)"
   ]
  },
  {
   "cell_type": "code",
   "execution_count": 18,
   "metadata": {},
   "outputs": [
    {
     "name": "stdout",
     "output_type": "stream",
     "text": [
      "tensor([[1, 1],\n",
      "        [1, 1]], dtype=torch.int32)\n",
      "torch.int32\n"
     ]
    }
   ],
   "source": [
    "##one function \n",
    "x = torch.ones(2,2, dtype=torch.int)\n",
    "print(x)\n",
    "print(x.dtype)"
   ]
  },
  {
   "cell_type": "code",
   "execution_count": 19,
   "metadata": {},
   "outputs": [
    {
     "name": "stdout",
     "output_type": "stream",
     "text": [
      "tensor([[1, 1],\n",
      "        [1, 1]], dtype=torch.int32)\n"
     ]
    }
   ],
   "source": [
    "##passing the datatype \n",
    "x = torch.ones(2,2, dtype=torch.int)\n",
    "print(x)"
   ]
  },
  {
   "cell_type": "code",
   "execution_count": 20,
   "metadata": {},
   "outputs": [
    {
     "name": "stdout",
     "output_type": "stream",
     "text": [
      "tensor([[1., 1., 1.],\n",
      "        [1., 1., 1.],\n",
      "        [1., 1., 1.]], dtype=torch.float64)\n"
     ]
    }
   ],
   "source": [
    "##passing datatype \n",
    "x = torch.ones(3,3,dtype=torch.double)\n",
    "print(x)"
   ]
  },
  {
   "cell_type": "code",
   "execution_count": 26,
   "metadata": {},
   "outputs": [
    {
     "name": "stdout",
     "output_type": "stream",
     "text": [
      "tensor([2.5000, 3.4000, 3.5000, 3.5000, 6.0000, 8.0000])\n",
      "torch.float32\n"
     ]
    }
   ],
   "source": [
    "##Construct list in torch \n",
    "x = torch.tensor([2.5,3.4,3.5,3.5,6,8])\n",
    "print(x)\n",
    "print(x.dtype)"
   ]
  },
  {
   "cell_type": "code",
   "execution_count": 30,
   "metadata": {},
   "outputs": [
    {
     "name": "stdout",
     "output_type": "stream",
     "text": [
      "tensor([[0.2584, 0.4028],\n",
      "        [0.4094, 0.5789]])\n",
      "tensor([[0.2110, 0.5141],\n",
      "        [0.5487, 0.6104]])\n",
      "tensor([[0.4694, 0.9168],\n",
      "        [0.9581, 1.1893]])\n"
     ]
    }
   ],
   "source": [
    "##basic operations of random number \n",
    "x = torch.rand(2,2)\n",
    "y = torch.rand(2,2)\n",
    "print(x)\n",
    "print(y)\n",
    "z = x+y\n",
    "print(z)"
   ]
  },
  {
   "cell_type": "code",
   "execution_count": 34,
   "metadata": {},
   "outputs": [
    {
     "name": "stdout",
     "output_type": "stream",
     "text": [
      "tensor([[0.9630, 0.0197],\n",
      "        [0.9759, 0.1129]])\n",
      "tensor([[0.6163, 0.2270],\n",
      "        [0.6948, 0.3780]])\n",
      "tensor([[1.5793, 0.2468],\n",
      "        [1.6707, 0.4909]])\n"
     ]
    }
   ],
   "source": [
    "##basic operations of random number \n",
    "x = torch.rand(2,2)\n",
    "y = torch.rand(2,2)\n",
    "print(x)\n",
    "print(y)\n",
    "z = torch.add(x,y)\n",
    "print(z)"
   ]
  },
  {
   "cell_type": "code",
   "execution_count": 39,
   "metadata": {},
   "outputs": [
    {
     "name": "stdout",
     "output_type": "stream",
     "text": [
      "tensor([[0.9615, 0.0524],\n",
      "        [0.6863, 0.1034]])\n",
      "tensor([[0.4455, 0.7059],\n",
      "        [0.0159, 0.2125]])\n",
      "tensor([[0.4283, 0.0370],\n",
      "        [0.0109, 0.0220]])\n",
      "tensor([[0.4283, 0.0370],\n",
      "        [0.0109, 0.0220]])\n"
     ]
    }
   ],
   "source": [
    "## Pytroch Multiplication \n",
    "\n",
    "x = torch.rand(2,2)\n",
    "y  = torch.rand(2,2)\n",
    "print(y)\n",
    "print(x)\n",
    "z = x*y \n",
    "d = torch.mul(x,y)\n",
    "print(d)\n",
    "print(z)"
   ]
  },
  {
   "cell_type": "code",
   "execution_count": 41,
   "metadata": {},
   "outputs": [
    {
     "name": "stdout",
     "output_type": "stream",
     "text": [
      "tensor([[23.3417,  0.0822],\n",
      "        [ 0.4799,  0.0778]])\n",
      "tensor([[23.3417,  0.0822],\n",
      "        [ 0.4799,  0.0778]])\n"
     ]
    }
   ],
   "source": [
    "##pytroch division operation \n",
    "x = torch.rand(2,2)\n",
    "y = torch.rand(2,2)\n",
    "z = x/y\n",
    "d = torch.div(x,y)\n",
    "print(z)\n",
    "print(d)"
   ]
  },
  {
   "cell_type": "code",
   "execution_count": 44,
   "metadata": {},
   "outputs": [
    {
     "name": "stdout",
     "output_type": "stream",
     "text": [
      "tensor([[0.9422, 0.7894],\n",
      "        [0.3227, 0.2046],\n",
      "        [0.6114, 0.4518],\n",
      "        [0.5089, 0.8556],\n",
      "        [0.6752, 0.1167]])\n",
      "tensor([0.7894, 0.2046, 0.4518, 0.8556, 0.1167])\n"
     ]
    }
   ],
   "source": [
    "### \n",
    "x = torch.rand(5,2)\n",
    "print(x)\n",
    "print(x[:,1])"
   ]
  },
  {
   "cell_type": "code",
   "execution_count": 46,
   "metadata": {},
   "outputs": [
    {
     "name": "stdout",
     "output_type": "stream",
     "text": [
      "tensor([1, 2, 3, 4, 5, 6, 7, 8])\n",
      "tensor([[1, 2],\n",
      "        [3, 4],\n",
      "        [5, 6],\n",
      "        [7, 8]])\n"
     ]
    }
   ],
   "source": [
    "## Reshaping tensors \n",
    "## using reshape funciton \n",
    "x = torch.tensor([1,2,3,4,5,6,7,8])\n",
    "print(x)\n",
    "##reshape into 2 dimensional \n",
    "reshaped_x = x.reshape(4,2)\n",
    "print(reshaped_x)"
   ]
  },
  {
   "cell_type": "code",
   "execution_count": 48,
   "metadata": {},
   "outputs": [
    {
     "name": "stdout",
     "output_type": "stream",
     "text": [
      "tensor([[0.8788, 0.6410, 0.1196, 0.4569],\n",
      "        [0.4670, 0.9027, 0.0090, 0.8415],\n",
      "        [0.1427, 0.5439, 0.1586, 0.5283],\n",
      "        [0.1159, 0.0878, 0.2897, 0.4939]])\n",
      "tensor([[0.8788, 0.6410, 0.1196, 0.4569, 0.4670, 0.9027, 0.0090, 0.8415],\n",
      "        [0.1427, 0.5439, 0.1586, 0.5283, 0.1159, 0.0878, 0.2897, 0.4939]])\n"
     ]
    }
   ],
   "source": [
    "## Reshaping tensors \n",
    "## using reshape funciton \n",
    "x = torch.rand(4,4)\n",
    "print(x)\n",
    "reshaped_x = x.reshape(-1,8)\n",
    "print(reshaped_x)\n",
    "##reshape into 2 dimensional \n",
    "\n"
   ]
  },
  {
   "cell_type": "code",
   "execution_count": 52,
   "metadata": {},
   "outputs": [
    {
     "name": "stdout",
     "output_type": "stream",
     "text": [
      "tensor([1., 1., 1., 1., 1.])\n",
      "[1. 1. 1. 1. 1.]\n"
     ]
    }
   ],
   "source": [
    "## converting to numpy to torch tensor \n",
    "import numpy as np \n",
    "a = torch.ones(5)\n",
    "b = a.numpy()\n",
    "print(a)\n",
    "print(b)"
   ]
  },
  {
   "cell_type": "code",
   "execution_count": 54,
   "metadata": {},
   "outputs": [
    {
     "name": "stdout",
     "output_type": "stream",
     "text": [
      "tensor([0.3590, 0.2395, 0.8692], requires_grad=True)\n"
     ]
    }
   ],
   "source": [
    "## Pytorch Autograd\n",
    "\n",
    "x = torch.rand(3,requires_grad=True)\n",
    "print(x)"
   ]
  }
 ],
 "metadata": {
  "interpreter": {
   "hash": "c6e4e9f98eb68ad3b7c296f83d20e6de614cb42e90992a65aa266555a3137d0d"
  },
  "kernelspec": {
   "display_name": "Python 3.9.7 ('base')",
   "language": "python",
   "name": "python3"
  },
  "language_info": {
   "codemirror_mode": {
    "name": "ipython",
    "version": 3
   },
   "file_extension": ".py",
   "mimetype": "text/x-python",
   "name": "python",
   "nbconvert_exporter": "python",
   "pygments_lexer": "ipython3",
   "version": "3.9.7"
  },
  "orig_nbformat": 4
 },
 "nbformat": 4,
 "nbformat_minor": 2
}
