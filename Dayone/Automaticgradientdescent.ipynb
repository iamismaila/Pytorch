{
 "cells": [
  {
   "cell_type": "code",
   "execution_count": 2,
   "metadata": {},
   "outputs": [],
   "source": [
    "##Optimizing model with Automatic gradient descent\n",
    "\n",
    "import numpy as np \n",
    "import torch \n",
    "## f = w * x\n",
    "## f = 2 *x\n",
    "\n",
    "X = torch.tensor([1,2,3,4],dtype =torch.float32)\n",
    "Y = torch.tensor([2,4,6,8],dtype = torch.float32)\n",
    "w = 0.0\n",
    "### Model prediction \n",
    "def forward (x):\n",
    "    return w*x\n",
    "## Model loss :MSE\n",
    "def loss(y,y_prediction):\n",
    "\n",
    "    return ((y-y_prediction)**2).mean()\n",
    "\n",
    "## Model gradient \n",
    "\n",
    "def gradient(x,y,y_prediction):\n",
    "    return np.dot(2*x , y_prediction-y).mean()"
   ]
  },
  {
   "cell_type": "code",
   "execution_count": 3,
   "metadata": {},
   "outputs": [
    {
     "name": "stdout",
     "output_type": "stream",
     "text": [
      " number of epochs : 0,w :1.200000, loss:30.000000 \n",
      " number of epochs : 1,w :1.680000, loss:4.799999 \n",
      " number of epochs : 2,w :1.872000, loss:0.768000 \n",
      " number of epochs : 3,w :1.948800, loss:0.122880 \n",
      " number of epochs : 4,w :1.979520, loss:0.019661 \n",
      " number of epochs : 5,w :1.991808, loss:0.003146 \n",
      " number of epochs : 6,w :1.996723, loss:0.000503 \n",
      " number of epochs : 7,w :1.998689, loss:0.000081 \n",
      " number of epochs : 8,w :1.999476, loss:0.000013 \n",
      " number of epochs : 9,w :1.999790, loss:0.000002 \n"
     ]
    }
   ],
   "source": [
    "## Model training \n",
    "## model training paramters :\n",
    "    ### learning_rate = 0.01 \n",
    "    ##  n_iteration = 10 \n",
    "\n",
    "learning_rate = 0.01\n",
    "n_iteration = 10 \n",
    "\n",
    "for epochs in range(n_iteration):\n",
    "\n",
    "    ## prediction \n",
    "    y_pred = forward(X)\n",
    "\n",
    "    ## loss \n",
    "    l = loss(Y,y_pred)\n",
    "\n",
    "    ## gradient \n",
    "\n",
    "   \n",
    "\n",
    "    dw = gradient(X,Y,y_pred)\n",
    "\n",
    "     ## updating the initial weights \n",
    "    \n",
    "    w-=  learning_rate *dw\n",
    "\n",
    "    if epochs %1 == 0:\n",
    "        print(f\" number of epochs : {epochs},w :{w:3f}, loss:{l:8f} \")"
   ]
  }
 ],
 "metadata": {
  "interpreter": {
   "hash": "336d0fd160d94e0e0f6591eaf10611da6cd73f7da6c7ea5a76062720089abcab"
  },
  "kernelspec": {
   "display_name": "Python 3.9.7 ('base')",
   "language": "python",
   "name": "python3"
  },
  "language_info": {
   "codemirror_mode": {
    "name": "ipython",
    "version": 3
   },
   "file_extension": ".py",
   "mimetype": "text/x-python",
   "name": "python",
   "nbconvert_exporter": "python",
   "pygments_lexer": "ipython3",
   "version": "3.9.7"
  },
  "orig_nbformat": 4
 },
 "nbformat": 4,
 "nbformat_minor": 2
}
