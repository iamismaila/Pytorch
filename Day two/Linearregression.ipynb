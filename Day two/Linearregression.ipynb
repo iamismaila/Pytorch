{
 "cells": [
  {
   "cell_type": "code",
   "execution_count": 2,
   "metadata": {},
   "outputs": [],
   "source": [
    "##Linear regression project pytorch - Practical \n",
    "\n",
    "import torch \n",
    "import torch.nn as nn\n",
    "import numpy as np \n",
    "import matplotlib.pyplot as plt "
   ]
  },
  {
   "cell_type": "code",
   "execution_count": 3,
   "metadata": {},
   "outputs": [
    {
     "name": "stdout",
     "output_type": "stream",
     "text": [
      "tensor([-5., -4., -3., -2., -1.,  0.,  1.,  2.,  3.,  4.])\n"
     ]
    }
   ],
   "source": [
    "## here there is 1D linear regression y = wx+b \n",
    "x = torch.tensor(range(-5,5),dtype=torch.float32)\n",
    "print(x)"
   ]
  },
  {
   "cell_type": "code",
   "execution_count": 4,
   "metadata": {},
   "outputs": [
    {
     "data": {
      "text/plain": [
       "tensor([-11.,  -8.,  -5.,  -2.,   1.,   4.,   7.,  10.,  13.,  16.])"
      ]
     },
     "execution_count": 4,
     "metadata": {},
     "output_type": "execute_result"
    }
   ],
   "source": [
    "w_gt =3 \n",
    "b_gt = 4 \n",
    "y = w_gt*x +b_gt\n",
    "y"
   ]
  },
  {
   "cell_type": "code",
   "execution_count": 5,
   "metadata": {},
   "outputs": [
    {
     "name": "stdout",
     "output_type": "stream",
     "text": [
      "w:tensor([0.9546], requires_grad=True)\n",
      "b:(tensor([-0.6465], requires_grad=True)\n"
     ]
    }
   ],
   "source": [
    "##random initial value \n",
    "w = torch.randn(1, requires_grad=True)\n",
    "b = torch.randn(1, requires_grad=True)\n",
    "print(f\"w:{w}\")\n",
    "print(f\"b:({b}\")\n",
    "learning_rate = 0.01"
   ]
  },
  {
   "cell_type": "code",
   "execution_count": 6,
   "metadata": {},
   "outputs": [],
   "source": [
    "def trainmodel(w, b, lr, iternum):\n",
    "    for i in range(iternum):\n",
    "        y_prediction = w*x + b\n",
    "\n",
    "        loss = ((y_prediction - y)**2).mean()\n",
    "        loss.backward()   # Compute the Gradients for w and b (requires_grad=True)\n",
    "        print(w,w.grad)\n",
    "        # Update parameters\n",
    "        with torch.no_grad():   # Temporarily set all requires_grad=False\n",
    "            w -= lr * w.grad\n",
    "            b -= lr * b.grad\n",
    "            # Remember to zero the gradients!\n",
    "            # If not, the gradients will be accumulated\n",
    "            w.grad.zero_()\n",
    "            b.grad.zero_()\n",
    "        print(\"Error: {:.4f}\".format(loss))"
   ]
  },
  {
   "cell_type": "code",
   "execution_count": 7,
   "metadata": {},
   "outputs": [
    {
     "name": "stdout",
     "output_type": "stream",
     "text": [
      "tensor([0.9546], requires_grad=True) tensor([-30.1246])\n",
      "Error: 47.6462\n",
      "tensor([1.2559], requires_grad=True) tensor([-25.0759])\n",
      "Error: 38.8008\n",
      "tensor([1.5066], requires_grad=True) tensor([-20.8870])\n",
      "Error: 32.4860\n",
      "tensor([1.7155], requires_grad=True) tensor([-17.4113])\n",
      "Error: 27.9206\n",
      "tensor([1.8896], requires_grad=True) tensor([-14.5270])\n",
      "Error: 24.5670\n",
      "tensor([2.0349], requires_grad=True) tensor([-12.1333])\n",
      "Error: 22.0549\n",
      "tensor([2.1562], requires_grad=True) tensor([-10.1465])\n",
      "Error: 20.1296\n",
      "tensor([2.2577], requires_grad=True) tensor([-8.4971])\n",
      "Error: 18.6154\n",
      "tensor([2.3427], requires_grad=True) tensor([-7.1276])\n",
      "Error: 17.3913\n",
      "tensor([2.4139], requires_grad=True) tensor([-5.9903])\n",
      "Error: 16.3736\n"
     ]
    }
   ],
   "source": [
    "trainmodel(w,b,learning_rate,10)"
   ]
  },
  {
   "cell_type": "code",
   "execution_count": 8,
   "metadata": {},
   "outputs": [
    {
     "name": "stdout",
     "output_type": "stream",
     "text": [
      "----- ----- ----- ----- -----\n",
      "Prediction:\n",
      "w_pred = 2.47, b_pred = 0.10\n",
      "Ground-truth:\n",
      "w_gt = 3.00, b_gt = 4.00\n"
     ]
    }
   ],
   "source": [
    "y_pred = (w*x + b)\n",
    "y_pred = y_pred.data.numpy()\n",
    "print(\"----- ----- ----- ----- -----\")\n",
    "print(\"Prediction:\")\n",
    "print(\"w_pred = {:.2f}, b_pred = {:.2f}\".format(w[0] ,b[0]))\n",
    "print(\"Ground-truth:\")\n",
    "print(\"w_gt = {:.2f}, b_gt = {:.2f}\".format(w_gt ,b_gt))"
   ]
  },
  {
   "cell_type": "code",
   "execution_count": 9,
   "metadata": {},
   "outputs": [
    {
     "data": {
      "image/png": "[encoded data removed]",
      "text/plain": [
       "<Figure size 432x288 with 1 Axes>"
      ]
     },
     "metadata": {
      "needs_background": "light"
     },
     "output_type": "display_data"
    }
   ],
   "source": [
    "plt.clf()\n",
    "plt.plot(x, y, 'go', label='True data', alpha=0.5)\n",
    "plt.plot(x, y_pred, '--', label='Predictions', alpha=0.5)\n",
    "plt.legend(loc='best')\n",
    "plt.show()"
   ]
  },
  {
   "cell_type": "code",
   "execution_count": 24,
   "metadata": {},
   "outputs": [],
   "source": [
    "##Linear regression using torch nn.module \n",
    "import torch.nn as nn \n",
    "\n",
    "class Linearregression(torch.nn.Module):\n",
    "    def __init__(self):\n",
    "        super(LinearRegression, self).__init__() \n",
    "        self.linear = torch.nn.Linear(1, 1, bias = True) # bias is default True\n",
    "\n",
    "    def forward(self,x):\n",
    "        y_pred = self.linear(x)\n",
    "        return y_pred"
   ]
  },
  {
   "cell_type": "code",
   "execution_count": null,
   "metadata": {},
   "outputs": [],
   "source": [
    "class LinearRegression(torch.nn.Module): \n",
    "    def __init__(self):\n",
    "        super(LinearRegression, self).__init__() \n",
    "        self.linear = torch.nn.Linear(1, 1, bias = True) # bias is default True\n",
    "\n",
    "    def forward(self, x):\n",
    "        y_pred = self.linear(x)\n",
    "        return y_pred"
   ]
  },
  {
   "cell_type": "code",
   "execution_count": 25,
   "metadata": {},
   "outputs": [],
   "source": [
    "our_model =LinearRegression()"
   ]
  },
  {
   "cell_type": "code",
   "execution_count": 26,
   "metadata": {},
   "outputs": [],
   "source": [
    "##Construct the loss and optimizer'\n",
    "learning_rate = 0.01 \n",
    "loss = torch.nn.MSELoss()\n",
    "optimizer = torch.optim.SGD(our_model.parameters(),lr=learning_rate)"
   ]
  },
  {
   "cell_type": "code",
   "execution_count": 62,
   "metadata": {},
   "outputs": [
    {
     "name": "stdout",
     "output_type": "stream",
     "text": [
      "torch.Size([10, 1])\n"
     ]
    }
   ],
   "source": [
    "x_train = x[:,None]\n",
    "y_train = y[:,None]\n",
    "print(y_train.shape)"
   ]
  },
  {
   "cell_type": "code",
   "execution_count": 75,
   "metadata": {},
   "outputs": [],
   "source": [
    "##training the model \n",
    "\n",
    "def training_model(model,x,y,iter):\n",
    "\n",
    "     \n",
    "\n",
    "    for epochs in range(iter):\n",
    "        ##forward \n",
    "        y_pred = our_model(x)\n",
    "\n",
    "        ##loss\n",
    "        ls = loss(y_pred,y)\n",
    "        ls.backward()\n",
    "        ## update paramaters\n",
    "        optimizer.step()\n",
    "\n",
    "        ### Clear gradient buffers  \n",
    "        optimizer.zero_grad()\n",
    "\n",
    "        if epochs % 10 ==0 :\n",
    "            print(f\"epochs :{epochs},loss ={ls.item()}\")\n",
    " "
   ]
  },
  {
   "cell_type": "code",
   "execution_count": 76,
   "metadata": {},
   "outputs": [
    {
     "name": "stdout",
     "output_type": "stream",
     "text": [
      "epochs :0,loss =3.1559920898871496e-08\n",
      "epochs :10,loss =2.141312016590291e-08\n",
      "epochs :20,loss =1.4453808816483615e-08\n",
      "epochs :30,loss =9.750891649673576e-09\n",
      "epochs :40,loss =6.6304037815712036e-09\n",
      "epochs :50,loss =4.455159796634689e-09\n",
      "epochs :60,loss =3.052406327697099e-09\n",
      "epochs :70,loss =2.0435606540303297e-09\n",
      "epochs :80,loss =1.4156285033095628e-09\n",
      "epochs :90,loss =9.303903203417008e-10\n"
     ]
    }
   ],
   "source": [
    "training_model(our_model,x_train,y_train,100)"
   ]
  },
  {
   "cell_type": "code",
   "execution_count": 77,
   "metadata": {},
   "outputs": [
    {
     "name": "stdout",
     "output_type": "stream",
     "text": [
      "----- ----- ----- ----- -----\n",
      "Prediction:\n",
      "linear.weight tensor([[3.0000]])\n",
      "linear.bias tensor([4.0000])\n",
      "Ground-truth:\n",
      "w_gt = 3.00, b_gt = 4.00\n"
     ]
    }
   ],
   "source": [
    "y_pred_bi = our_model(x_train).data.numpy()\n",
    "\n",
    "print(\"----- ----- ----- ----- -----\")\n",
    "print(\"Prediction:\")\n",
    "for name, param in our_model.named_parameters():\n",
    "    if param.requires_grad:\n",
    "        print(name, param.data)\n",
    "print(\"Ground-truth:\")\n",
    "print(\"w_gt = {:.2f}, b_gt = {:.2f}\".format(w_gt ,b_gt))"
   ]
  },
  {
   "cell_type": "code",
   "execution_count": 78,
   "metadata": {},
   "outputs": [
    {
     "data": {
      "image/png": "[encoded data removed]",
      "text/plain": [
       "<Figure size 432x288 with 1 Axes>"
      ]
     },
     "metadata": {
      "needs_background": "light"
     },
     "output_type": "display_data"
    }
   ],
   "source": [
    "plt.clf()\n",
    "plt.plot(x, y, 'go', label='True data', alpha=0.5)\n",
    "plt.plot(x, y_pred_bi, '--', label='Predictions', alpha=0.5)\n",
    "plt.legend(loc='best')\n",
    "plt.show()"
   ]
  }
 ],
 "metadata": {
  "interpreter": {
   "hash": "336d0fd160d94e0e0f6591eaf10611da6cd73f7da6c7ea5a76062720089abcab"
  },
  "kernelspec": {
   "display_name": "Python 3.9.7 ('base')",
   "language": "python",
   "name": "python3"
  },
  "language_info": {
   "codemirror_mode": {
    "name": "ipython",
    "version": 3
   },
   "file_extension": ".py",
   "mimetype": "text/x-python",
   "name": "python",
   "nbconvert_exporter": "python",
   "pygments_lexer": "ipython3",
   "version": "3.9.7"
  },
  "orig_nbformat": 4
 },
 "nbformat": 4,
 "nbformat_minor": 2
}
