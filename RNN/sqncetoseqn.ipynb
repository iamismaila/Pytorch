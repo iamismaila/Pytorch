{
 "cells": [
  {
   "cell_type": "code",
   "execution_count": 1,
   "metadata": {},
   "outputs": [],
   "source": [
    "import torch\n",
    "import torch.nn as nn\n",
    "import torch.nn.functional as F\n",
    "import random\n",
    "import matplotlib.pyplot as plt"
   ]
  },
  {
   "cell_type": "code",
   "execution_count": 5,
   "metadata": {},
   "outputs": [
    {
     "name": "stdout",
     "output_type": "stream",
     "text": [
      "hello: [104, 101, 108, 108, 111]\n",
      "hola: [104, 111, 108, 97]\n"
     ]
    }
   ],
   "source": [
    "vocublary_size = 256   \n",
    "x_ = list(map(ord, \"hello\"))   \n",
    "y_ = list(map(ord, \"hola\"))    \n",
    "print(\"hello:\", x_)\n",
    "print(\"hola:\", y_)"
   ]
  },
  {
   "cell_type": "code",
   "execution_count": 6,
   "metadata": {},
   "outputs": [],
   "source": [
    "x = torch.LongTensor(x_)\n",
    "y = torch.LongTensor(y_)"
   ]
  },
  {
   "cell_type": "code",
   "execution_count": 7,
   "metadata": {},
   "outputs": [],
   "source": [
    "class squence(nn.Module):\n",
    "    def __init__(self, vocab_size, hidden_size):\n",
    "        super(squence, self).__init__()\n",
    "        self.n_layers = 1\n",
    "        self.hidden_size = hidden_size\n",
    "        self.embedding = nn.Embedding(vocab_size, hidden_size)\n",
    "        self.encoder = nn.GRU(hidden_size, hidden_size)\n",
    "        self.decoder = nn.GRU(hidden_size, hidden_size)\n",
    "        self.project = nn.Linear(hidden_size, vocab_size)\n",
    "\n",
    "    def forward(self, inputs, targets):\n",
    "        initial_state = self._init_state()\n",
    "        embedding = self.embedding(inputs).unsqueeze(1)\n",
    "        encoder_output, encoder_state = self.encoder(embedding, initial_state)\n",
    "        decoder_state = encoder_state\n",
    "        decoder_input = torch.LongTensor([0])\n",
    "        outputs = []\n",
    "        for i in range(targets.size()[0]):\n",
    "            decoder_input = self.embedding(decoder_input).unsqueeze(1)\n",
    "            decoder_output, decoder_state = self.decoder(decoder_input, decoder_state)\n",
    "            projection = self.project(decoder_output)\n",
    "            outputs.append(projection)\n",
    "            decoder_input = torch.LongTensor([targets[i]])\n",
    "        outputs = torch.stack(outputs).squeeze()\n",
    "        return outputs\n",
    "    \n",
    "    def _init_state(self, batch_size=1):\n",
    "        weight = next(self.parameters()).data\n",
    "        return weight.new(self.n_layers, batch_size, self.hidden_size).zero_()"
   ]
  },
  {
   "cell_type": "code",
   "execution_count": 9,
   "metadata": {},
   "outputs": [],
   "source": [
    "seq_model = squence(vocublary_size, 16)\n",
    "criterion = nn.CrossEntropyLoss()\n",
    "optimizer = torch.optim.Adam(seq_model.parameters(), lr=1e-3)"
   ]
  },
  {
   "cell_type": "code",
   "execution_count": 12,
   "metadata": {},
   "outputs": [
    {
     "name": "stdout",
     "output_type": "stream",
     "text": [
      "\n",
      " Epoch:0 Error: 0.03135327994823456\n",
      "['h', 'o', 'l', 'a']\n",
      "\n",
      " Epoch:100 Error: 0.026706485077738762\n",
      "['h', 'o', 'l', 'a']\n",
      "\n",
      " Epoch:200 Error: 0.022573135793209076\n",
      "['h', 'o', 'l', 'a']\n",
      "\n",
      " Epoch:300 Error: 0.019104862585663795\n",
      "['h', 'o', 'l', 'a']\n",
      "\n",
      " Epoch:400 Error: 0.016450950875878334\n",
      "['h', 'o', 'l', 'a']\n",
      "\n",
      " Epoch:500 Error: 0.014325978234410286\n",
      "['h', 'o', 'l', 'a']\n",
      "\n",
      " Epoch:600 Error: 0.012592888437211514\n",
      "['h', 'o', 'l', 'a']\n",
      "\n",
      " Epoch:700 Error: 0.011159168556332588\n",
      "['h', 'o', 'l', 'a']\n",
      "\n",
      " Epoch:800 Error: 0.009958023205399513\n",
      "['h', 'o', 'l', 'a']\n",
      "\n",
      " Epoch:900 Error: 0.008939617313444614\n",
      "['h', 'o', 'l', 'a']\n"
     ]
    }
   ],
   "source": [
    "log = []\n",
    "for i in range(1000):\n",
    "    prediction = seq_model(x, y)\n",
    "    loss = criterion(prediction, y)\n",
    "    optimizer.zero_grad()\n",
    "    loss.backward()\n",
    "    optimizer.step()\n",
    "    loss_val = loss.data\n",
    "    log.append(loss_val)\n",
    "    if i % 100 == 0:\n",
    "        print(\"\\n Epoch:%d Error: %s\" % (i, loss_val.item()))\n",
    "        _, top1 = prediction.data.topk(1, 1)\n",
    "        print([chr(c) for c in top1.squeeze().numpy().tolist()])"
   ]
  }
 ],
 "metadata": {
  "kernelspec": {
   "display_name": "Python 3",
   "language": "python",
   "name": "python3"
  },
  "language_info": {
   "codemirror_mode": {
    "name": "ipython",
    "version": 3
   },
   "file_extension": ".py",
   "mimetype": "text/x-python",
   "name": "python",
   "nbconvert_exporter": "python",
   "pygments_lexer": "ipython3",
   "version": "3.9.7"
  }
 },
 "nbformat": 4,
 "nbformat_minor": 2
}
