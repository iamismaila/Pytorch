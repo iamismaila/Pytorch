{
 "cells": [
  {
   "cell_type": "markdown",
   "metadata": {},
   "source": [
    "## Feed-Forwad Neural network \n"
   ]
  },
  {
   "cell_type": "code",
   "execution_count": 6,
   "metadata": {},
   "outputs": [],
   "source": [
    "## we will take these steps \n",
    "  ## Datalouder ,Transformations\n",
    "  ##Multi layer neural net ,activatoin function \n",
    "  ## loss and optimizer \n",
    "  ## Training loop (we will use batch training)\n",
    "  ## Model Evalution \n",
    "  ### at the end we will try if our code can support GPU\n",
    "\n",
    "##\n",
    "import torch \n",
    "import torch.nn as nn\n",
    "import numpy as np\n",
    "import matplotlib.pyplot as plt\n",
    "import torchvision.transforms as transforms  \n",
    " "
   ]
  },
  {
   "cell_type": "code",
   "execution_count": 69,
   "metadata": {},
   "outputs": [],
   "source": [
    "##hyper paramaters \n",
    "input_size = 784 \n",
    "hidden_size = 100\n",
    "num_classes = 10 \n",
    "num_epochs = 20\n",
    "batch_size = 100 \n",
    "learning_rate = 0.001"
   ]
  },
  {
   "cell_type": "code",
   "execution_count": 70,
   "metadata": {},
   "outputs": [],
   "source": [
    "##data louding \n",
    "train_data = torchvision.datasets.MNIST(root='/home/iamismail/Rebirth Pytorch',train=True , transform=transforms.ToTensor() ,download=True)\n",
    "test_data = torchvision.datasets.MNIST(root='/home/iamismail/Rebirth Pytorch',train=False, transform= transforms.ToTensor())\n",
    "\n",
    "##data louders \n",
    "train_louder = torch.utils.data.DataLoader(dataset=train_data,batch_size=batch_size, shuffle=True)\n",
    "test_louder = torch.utils.data.DataLoader(dataset=test_data,batch_size=batch_size,shuffle=False)"
   ]
  },
  {
   "cell_type": "code",
   "execution_count": 71,
   "metadata": {},
   "outputs": [
    {
     "name": "stdout",
     "output_type": "stream",
     "text": [
      "torch.Size([100, 1, 28, 28])\n",
      "torch.Size([100])\n"
     ]
    }
   ],
   "source": [
    "##looking one batch of our dat \n",
    "examples = iter(train_louder)\n",
    "samples ,labels = examples.next()\n",
    "print(samples.shape)\n",
    "print(labels.shape)"
   ]
  },
  {
   "cell_type": "code",
   "execution_count": 72,
   "metadata": {},
   "outputs": [
    {
     "data": {
      "image/png": "[encoded data removed]",
      "text/plain": [
       "<Figure size 432x288 with 6 Axes>"
      ]
     },
     "metadata": {
      "needs_background": "light"
     },
     "output_type": "display_data"
    }
   ],
   "source": [
    "for i in range(6) :\n",
    "    plt.subplot(2,3,i+1) \n",
    "    plt.imshow(samples[i][0])\n",
    "plt.show()\n",
    "\n",
    "##our goal is to classify these images into 10 digits , so we will setup fully connected neural network with one hidden layer\n",
    "\n"
   ]
  },
  {
   "cell_type": "code",
   "execution_count": 73,
   "metadata": {},
   "outputs": [],
   "source": [
    "##our goal is to classify these images into 10 digits , so we will setup fully connected neural network with one hidden layer\n",
    "\n",
    "class Neuralnetwork(nn.Module):\n",
    "    def __init__(self, input_size, hidden_size,num_classes):\n",
    "        super(Neuralnetwork,self).__init__()\n",
    "\n",
    "        ##our layers \n",
    "        self.layer1 = nn.Linear(input_size,hidden_size)\n",
    "        self.relu = nn.ReLU()\n",
    "        self.layer2 =nn.Linear(hidden_size,num_classes)\n",
    "    def forward(self,x):\n",
    "        output = self.layer1(x)\n",
    "        output = self.relu(output)\n",
    "        output = self.layer2(output)\n",
    "\n",
    "        return output"
   ]
  },
  {
   "cell_type": "code",
   "execution_count": 74,
   "metadata": {},
   "outputs": [],
   "source": [
    "model = Neuralnetwork(input_size=input_size,hidden_size=hidden_size,num_classes=num_classes)\n",
    "\n",
    "##loss and optimzier \n",
    "criterian = nn.CrossEntropyLoss()\n",
    "optimizer = torch.optim.Adam(model.parameters(),lr =learning_rate)\n"
   ]
  },
  {
   "cell_type": "code",
   "execution_count": 75,
   "metadata": {},
   "outputs": [
    {
     "name": "stdout",
     "output_type": "stream",
     "text": [
      "epochs 1 /20,step :600 /60000 loss :2.303263\n",
      "epochs 2 /20,step :600 /60000 loss :2.266087\n",
      "epochs 3 /20,step :600 /60000 loss :2.235454\n",
      "epochs 4 /20,step :600 /60000 loss :2.179824\n",
      "epochs 5 /20,step :600 /60000 loss :2.145357\n",
      "epochs 6 /20,step :600 /60000 loss :2.110506\n",
      "epochs 7 /20,step :600 /60000 loss :2.057935\n",
      "epochs 8 /20,step :600 /60000 loss :2.005000\n",
      "epochs 9 /20,step :600 /60000 loss :1.938236\n",
      "epochs 10 /20,step :600 /60000 loss :1.899732\n",
      "epochs 11 /20,step :600 /60000 loss :1.901710\n",
      "epochs 12 /20,step :600 /60000 loss :1.806382\n",
      "epochs 13 /20,step :600 /60000 loss :1.818336\n",
      "epochs 14 /20,step :600 /60000 loss :1.736058\n",
      "epochs 15 /20,step :600 /60000 loss :1.617002\n",
      "epochs 16 /20,step :600 /60000 loss :1.679643\n",
      "epochs 17 /20,step :600 /60000 loss :1.686057\n",
      "epochs 18 /20,step :600 /60000 loss :1.533893\n",
      "epochs 19 /20,step :600 /60000 loss :1.512378\n",
      "epochs 20 /20,step :600 /60000 loss :1.461667\n"
     ]
    }
   ],
   "source": [
    "##Training loop \n",
    "n_total_steps = len(train_data)\n",
    "\n",
    "for epochs in range(num_epochs):\n",
    "    for i, (images,labels) in enumerate(train_louder):\n",
    "\n",
    "        ### our image shape is 100,1,28 ,28 so we need to reshape coz our inputsize is 784 so it should be (100 ,784)\n",
    "        images = images.reshape(-1,28*28)\n",
    "         \n",
    "    #forward \n",
    "    outputs = model(images)\n",
    "    loss = criterian(outputs,labels)\n",
    "    ## backward \n",
    "    optimizer.zero_grad()\n",
    "    loss.backward()\n",
    "\n",
    "    ##update paramaters \n",
    "    optimizer.step()\n",
    "\n",
    "    ##printing the loss\n",
    "\n",
    "    if (i+1) %100 ==0 :\n",
    "        print(f\"epochs {epochs +1} /{num_epochs},step :{i+1} /{n_total_steps} loss :{loss.item():4f}\")\n",
    "\n",
    "    ##loss \n",
    "    \n",
    "    ##gradient "
   ]
  },
  {
   "cell_type": "code",
   "execution_count": 76,
   "metadata": {},
   "outputs": [
    {
     "name": "stdout",
     "output_type": "stream",
     "text": [
      "Accuracy of the network on the 10000 test images: 75.92 %\n"
     ]
    }
   ],
   "source": [
    "with torch.no_grad():\n",
    "    n_correct = 0\n",
    "    n_samples = 0\n",
    "    for images, labels in test_louder:\n",
    "        images = images.reshape(-1, 28*28)\n",
    "        labels = labels\n",
    "        outputs = model(images)\n",
    "        # max returns (value ,index)\n",
    "        _, predicted = torch.max(outputs.data, 1)\n",
    "        n_samples += labels.size(0)\n",
    "        n_correct += (predicted == labels).sum().item()\n",
    "\n",
    "    acc = 100.0 * n_correct / n_samples\n",
    "    print(f'Accuracy of the network on the 10000 test images: {acc} %')"
   ]
  }
 ],
 "metadata": {
  "interpreter": {
   "hash": "336d0fd160d94e0e0f6591eaf10611da6cd73f7da6c7ea5a76062720089abcab"
  },
  "kernelspec": {
   "display_name": "Python 3.9.7 ('base')",
   "language": "python",
   "name": "python3"
  },
  "language_info": {
   "codemirror_mode": {
    "name": "ipython",
    "version": 3
   },
   "file_extension": ".py",
   "mimetype": "text/x-python",
   "name": "python",
   "nbconvert_exporter": "python",
   "pygments_lexer": "ipython3",
   "version": "3.9.7"
  },
  "orig_nbformat": 4
 },
 "nbformat": 4,
 "nbformat_minor": 2
}
